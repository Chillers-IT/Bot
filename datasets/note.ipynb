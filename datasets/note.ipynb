{
 "cells": [
  {
   "cell_type": "code",
   "execution_count": 2,
   "metadata": {},
   "outputs": [],
   "source": [
    "import pandas as pd\n",
    "from googletrans import Translator\n",
    "from nltk.corpus import stopwords"
   ]
  },
  {
   "cell_type": "code",
   "execution_count": 3,
   "outputs": [
    {
     "data": {
      "text/plain": "['и',\n 'в',\n 'во',\n 'не',\n 'что',\n 'он',\n 'на',\n 'я',\n 'с',\n 'со',\n 'как',\n 'а',\n 'то',\n 'все',\n 'она',\n 'так',\n 'его',\n 'но',\n 'да',\n 'ты',\n 'к',\n 'у',\n 'же',\n 'вы',\n 'за',\n 'бы',\n 'по',\n 'только',\n 'ее',\n 'мне',\n 'было',\n 'вот',\n 'от',\n 'меня',\n 'еще',\n 'нет',\n 'о',\n 'из',\n 'ему',\n 'теперь',\n 'когда',\n 'даже',\n 'ну',\n 'вдруг',\n 'ли',\n 'если',\n 'уже',\n 'или',\n 'ни',\n 'быть',\n 'был',\n 'него',\n 'до',\n 'вас',\n 'нибудь',\n 'опять',\n 'уж',\n 'вам',\n 'ведь',\n 'там',\n 'потом',\n 'себя',\n 'ничего',\n 'ей',\n 'может',\n 'они',\n 'тут',\n 'где',\n 'есть',\n 'надо',\n 'ней',\n 'для',\n 'мы',\n 'тебя',\n 'их',\n 'чем',\n 'была',\n 'сам',\n 'чтоб',\n 'без',\n 'будто',\n 'чего',\n 'раз',\n 'тоже',\n 'себе',\n 'под',\n 'будет',\n 'ж',\n 'тогда',\n 'кто',\n 'этот',\n 'того',\n 'потому',\n 'этого',\n 'какой',\n 'совсем',\n 'ним',\n 'здесь',\n 'этом',\n 'один',\n 'почти',\n 'мой',\n 'тем',\n 'чтобы',\n 'нее',\n 'сейчас',\n 'были',\n 'куда',\n 'зачем',\n 'всех',\n 'никогда',\n 'можно',\n 'при',\n 'наконец',\n 'два',\n 'об',\n 'другой',\n 'хоть',\n 'после',\n 'над',\n 'больше',\n 'тот',\n 'через',\n 'эти',\n 'нас',\n 'про',\n 'всего',\n 'них',\n 'какая',\n 'много',\n 'разве',\n 'три',\n 'эту',\n 'моя',\n 'впрочем',\n 'хорошо',\n 'свою',\n 'этой',\n 'перед',\n 'иногда',\n 'лучше',\n 'чуть',\n 'том',\n 'нельзя',\n 'такой',\n 'им',\n 'более',\n 'всегда',\n 'конечно',\n 'всю',\n 'между']"
     },
     "execution_count": 3,
     "metadata": {},
     "output_type": "execute_result"
    }
   ],
   "source": [
    "stopwords.words('russian')"
   ],
   "metadata": {
    "collapsed": false,
    "pycharm": {
     "name": "#%%\n"
    }
   }
  },
  {
   "cell_type": "code",
   "execution_count": 4,
   "metadata": {},
   "outputs": [],
   "source": [
    "def translate(df):\n",
    "    translator = Translator()\n",
    "    df['answers'] = df['answers'].apply(lambda x: translator.translate(x, dest='ru').text)\n",
    "    df['questions'] = df['questions'].apply(lambda x: translator.translate(x, dest='ru').text)"
   ]
  },
  {
   "cell_type": "code",
   "execution_count": 5,
   "metadata": {},
   "outputs": [],
   "source": [
    "FAQ = pd.read_csv('./example_rus.csv')"
   ]
  },
  {
   "cell_type": "code",
   "execution_count": 6,
   "metadata": {},
   "outputs": [
    {
     "data": {
      "text/plain": "   Unnamed: 0                                          questions  \\\n0           0                   Как я могу поддержать этот сайт?   \n1           1                           Как ты так много пишешь?   \n2           2            Что вы имеете в виду под «мастерством»?   \n3           3  Что вы имеете в виду под машинным обучением, о...   \n4           4  Что вы имеете в виду под машинным обучением «с...   \n\n                                             answers  \n0  Есть несколько способов вернуть и поддержать м...  \n1  Пишу каждый день.\\nЯ написал (почти) все сообщ...  \n2  Не думаю, что я мастер машинного обучения.\\nЯ ...  \n3  Есть много способов изучить машинное обучение....  \n4  Курсы бакалавриата и магистратуры по машинному...  ",
      "text/html": "<div>\n<style scoped>\n    .dataframe tbody tr th:only-of-type {\n        vertical-align: middle;\n    }\n\n    .dataframe tbody tr th {\n        vertical-align: top;\n    }\n\n    .dataframe thead th {\n        text-align: right;\n    }\n</style>\n<table border=\"1\" class=\"dataframe\">\n  <thead>\n    <tr style=\"text-align: right;\">\n      <th></th>\n      <th>Unnamed: 0</th>\n      <th>questions</th>\n      <th>answers</th>\n    </tr>\n  </thead>\n  <tbody>\n    <tr>\n      <th>0</th>\n      <td>0</td>\n      <td>Как я могу поддержать этот сайт?</td>\n      <td>Есть несколько способов вернуть и поддержать м...</td>\n    </tr>\n    <tr>\n      <th>1</th>\n      <td>1</td>\n      <td>Как ты так много пишешь?</td>\n      <td>Пишу каждый день.\\nЯ написал (почти) все сообщ...</td>\n    </tr>\n    <tr>\n      <th>2</th>\n      <td>2</td>\n      <td>Что вы имеете в виду под «мастерством»?</td>\n      <td>Не думаю, что я мастер машинного обучения.\\nЯ ...</td>\n    </tr>\n    <tr>\n      <th>3</th>\n      <td>3</td>\n      <td>Что вы имеете в виду под машинным обучением, о...</td>\n      <td>Есть много способов изучить машинное обучение....</td>\n    </tr>\n    <tr>\n      <th>4</th>\n      <td>4</td>\n      <td>Что вы имеете в виду под машинным обучением «с...</td>\n      <td>Курсы бакалавриата и магистратуры по машинному...</td>\n    </tr>\n  </tbody>\n</table>\n</div>"
     },
     "execution_count": 6,
     "metadata": {},
     "output_type": "execute_result"
    }
   ],
   "source": [
    "df.head()"
   ]
  },
  {
   "cell_type": "code",
   "execution_count": 7,
   "metadata": {},
   "outputs": [
    {
     "name": "stdout",
     "output_type": "stream",
     "text": [
      "<class 'pandas.core.frame.DataFrame'>\n",
      "RangeIndex: 284 entries, 0 to 283\n",
      "Data columns (total 3 columns):\n",
      " #   Column      Non-Null Count  Dtype \n",
      "---  ------      --------------  ----- \n",
      " 0   Unnamed: 0  284 non-null    int64 \n",
      " 1   questions   284 non-null    object\n",
      " 2   answers     284 non-null    object\n",
      "dtypes: int64(1), object(2)\n",
      "memory usage: 6.8+ KB\n"
     ]
    }
   ],
   "source": [
    "df.info()"
   ]
  },
  {
   "cell_type": "markdown",
   "source": [
    "Подготовка датасета (Приводим к нижнему регистру и удаляем знаки препинания)"
   ],
   "metadata": {
    "collapsed": false,
    "pycharm": {
     "name": "#%% md\n"
    }
   }
  },
  {
   "cell_type": "code",
   "execution_count": 15,
   "outputs": [
    {
     "data": {
      "text/plain": "   Unnamed: 0                                          questions  \\\n0           0                           как могу поддержать сайт   \n1           1                                         как пишешь   \n2           2                        что имеете виду мастерством   \n3           3  что имеете виду машинным обучением ориентирова...   \n4           4     что имеете виду машинным обучением сверху вниз   \n\n                                             answers  \n0  Есть несколько способов вернуть и поддержать м...  \n1  Пишу каждый день.\\nЯ написал (почти) все сообщ...  \n2  Не думаю, что я мастер машинного обучения.\\nЯ ...  \n3  Есть много способов изучить машинное обучение....  \n4  Курсы бакалавриата и магистратуры по машинному...  ",
      "text/html": "<div>\n<style scoped>\n    .dataframe tbody tr th:only-of-type {\n        vertical-align: middle;\n    }\n\n    .dataframe tbody tr th {\n        vertical-align: top;\n    }\n\n    .dataframe thead th {\n        text-align: right;\n    }\n</style>\n<table border=\"1\" class=\"dataframe\">\n  <thead>\n    <tr style=\"text-align: right;\">\n      <th></th>\n      <th>Unnamed: 0</th>\n      <th>questions</th>\n      <th>answers</th>\n    </tr>\n  </thead>\n  <tbody>\n    <tr>\n      <th>0</th>\n      <td>0</td>\n      <td>как могу поддержать сайт</td>\n      <td>Есть несколько способов вернуть и поддержать м...</td>\n    </tr>\n    <tr>\n      <th>1</th>\n      <td>1</td>\n      <td>как пишешь</td>\n      <td>Пишу каждый день.\\nЯ написал (почти) все сообщ...</td>\n    </tr>\n    <tr>\n      <th>2</th>\n      <td>2</td>\n      <td>что имеете виду мастерством</td>\n      <td>Не думаю, что я мастер машинного обучения.\\nЯ ...</td>\n    </tr>\n    <tr>\n      <th>3</th>\n      <td>3</td>\n      <td>что имеете виду машинным обучением ориентирова...</td>\n      <td>Есть много способов изучить машинное обучение....</td>\n    </tr>\n    <tr>\n      <th>4</th>\n      <td>4</td>\n      <td>что имеете виду машинным обучением сверху вниз</td>\n      <td>Курсы бакалавриата и магистратуры по машинному...</td>\n    </tr>\n  </tbody>\n</table>\n</div>"
     },
     "execution_count": 15,
     "metadata": {},
     "output_type": "execute_result"
    }
   ],
   "source": [
    "import re\n",
    "\n",
    "FAQ = pd.read_csv('./example_rus.csv')\n",
    "\n",
    "def clean_text(question:str, stopwords=stopwords.words('russian')+stopwords.words('english')):\n",
    "    question = question.split(' ')\n",
    "    for stopword in stopwords:\n",
    "        try:\n",
    "            question.remove(stopword)\n",
    "        except:\n",
    "            pass\n",
    "\n",
    "    x = ' '.join(question).lower()\n",
    "    return re.sub(r'[^a-z0-9а-я\\s]', '', x)\n",
    "\n",
    "FAQ['questions'] = FAQ['questions'].apply(clean_text)\n",
    "\n",
    "FAQ.head()"
   ],
   "metadata": {
    "collapsed": false,
    "pycharm": {
     "name": "#%%\n"
    }
   }
  },
  {
   "cell_type": "code",
   "execution_count": 9,
   "metadata": {},
   "outputs": [],
   "source": [
    "from sklearn.feature_extraction.text import TfidfVectorizer\n",
    "from sklearn import metrics\n"
   ]
  },
  {
   "cell_type": "code",
   "execution_count": 10,
   "metadata": {},
   "outputs": [],
   "source": [
    "vectorizer = TfidfVectorizer()"
   ]
  },
  {
   "cell_type": "code",
   "execution_count": 11,
   "metadata": {},
   "outputs": [
    {
     "data": {
      "text/plain": "   100  abn  access  accuracy  acn  additional  address  advertisement  \\\n0  0.0  0.0     0.0       0.0  0.0         0.0      0.0            0.0   \n1  0.0  0.0     0.0       0.0  0.0         0.0      0.0            0.0   \n2  0.0  0.0     0.0       0.0  0.0         0.0      0.0            0.0   \n3  0.0  0.0     0.0       0.0  0.0         0.0      0.0            0.0   \n4  0.0  0.0     0.0       0.0  0.0         0.0      0.0            0.0   \n\n   advice  agi  ...  чатботам  чисел  числа       что  шаг  шагами  школу  \\\n0     0.0  0.0  ...       0.0    0.0    0.0  0.000000  0.0     0.0    0.0   \n1     0.0  0.0  ...       0.0    0.0    0.0  0.000000  0.0     0.0    0.0   \n2     0.0  0.0  ...       0.0    0.0    0.0  0.392070  0.0     0.0    0.0   \n3     0.0  0.0  ...       0.0    0.0    0.0  0.284591  0.0     0.0    0.0   \n4     0.0  0.0  ...       0.0    0.0    0.0  0.284591  0.0     0.0    0.0   \n\n   этим  это  язык  \n0   0.0  0.0   0.0  \n1   0.0  0.0   0.0  \n2   0.0  0.0   0.0  \n3   0.0  0.0   0.0  \n4   0.0  0.0   0.0  \n\n[5 rows x 687 columns]",
      "text/html": "<div>\n<style scoped>\n    .dataframe tbody tr th:only-of-type {\n        vertical-align: middle;\n    }\n\n    .dataframe tbody tr th {\n        vertical-align: top;\n    }\n\n    .dataframe thead th {\n        text-align: right;\n    }\n</style>\n<table border=\"1\" class=\"dataframe\">\n  <thead>\n    <tr style=\"text-align: right;\">\n      <th></th>\n      <th>100</th>\n      <th>abn</th>\n      <th>access</th>\n      <th>accuracy</th>\n      <th>acn</th>\n      <th>additional</th>\n      <th>address</th>\n      <th>advertisement</th>\n      <th>advice</th>\n      <th>agi</th>\n      <th>...</th>\n      <th>чатботам</th>\n      <th>чисел</th>\n      <th>числа</th>\n      <th>что</th>\n      <th>шаг</th>\n      <th>шагами</th>\n      <th>школу</th>\n      <th>этим</th>\n      <th>это</th>\n      <th>язык</th>\n    </tr>\n  </thead>\n  <tbody>\n    <tr>\n      <th>0</th>\n      <td>0.0</td>\n      <td>0.0</td>\n      <td>0.0</td>\n      <td>0.0</td>\n      <td>0.0</td>\n      <td>0.0</td>\n      <td>0.0</td>\n      <td>0.0</td>\n      <td>0.0</td>\n      <td>0.0</td>\n      <td>...</td>\n      <td>0.0</td>\n      <td>0.0</td>\n      <td>0.0</td>\n      <td>0.000000</td>\n      <td>0.0</td>\n      <td>0.0</td>\n      <td>0.0</td>\n      <td>0.0</td>\n      <td>0.0</td>\n      <td>0.0</td>\n    </tr>\n    <tr>\n      <th>1</th>\n      <td>0.0</td>\n      <td>0.0</td>\n      <td>0.0</td>\n      <td>0.0</td>\n      <td>0.0</td>\n      <td>0.0</td>\n      <td>0.0</td>\n      <td>0.0</td>\n      <td>0.0</td>\n      <td>0.0</td>\n      <td>...</td>\n      <td>0.0</td>\n      <td>0.0</td>\n      <td>0.0</td>\n      <td>0.000000</td>\n      <td>0.0</td>\n      <td>0.0</td>\n      <td>0.0</td>\n      <td>0.0</td>\n      <td>0.0</td>\n      <td>0.0</td>\n    </tr>\n    <tr>\n      <th>2</th>\n      <td>0.0</td>\n      <td>0.0</td>\n      <td>0.0</td>\n      <td>0.0</td>\n      <td>0.0</td>\n      <td>0.0</td>\n      <td>0.0</td>\n      <td>0.0</td>\n      <td>0.0</td>\n      <td>0.0</td>\n      <td>...</td>\n      <td>0.0</td>\n      <td>0.0</td>\n      <td>0.0</td>\n      <td>0.392070</td>\n      <td>0.0</td>\n      <td>0.0</td>\n      <td>0.0</td>\n      <td>0.0</td>\n      <td>0.0</td>\n      <td>0.0</td>\n    </tr>\n    <tr>\n      <th>3</th>\n      <td>0.0</td>\n      <td>0.0</td>\n      <td>0.0</td>\n      <td>0.0</td>\n      <td>0.0</td>\n      <td>0.0</td>\n      <td>0.0</td>\n      <td>0.0</td>\n      <td>0.0</td>\n      <td>0.0</td>\n      <td>...</td>\n      <td>0.0</td>\n      <td>0.0</td>\n      <td>0.0</td>\n      <td>0.284591</td>\n      <td>0.0</td>\n      <td>0.0</td>\n      <td>0.0</td>\n      <td>0.0</td>\n      <td>0.0</td>\n      <td>0.0</td>\n    </tr>\n    <tr>\n      <th>4</th>\n      <td>0.0</td>\n      <td>0.0</td>\n      <td>0.0</td>\n      <td>0.0</td>\n      <td>0.0</td>\n      <td>0.0</td>\n      <td>0.0</td>\n      <td>0.0</td>\n      <td>0.0</td>\n      <td>0.0</td>\n      <td>...</td>\n      <td>0.0</td>\n      <td>0.0</td>\n      <td>0.0</td>\n      <td>0.284591</td>\n      <td>0.0</td>\n      <td>0.0</td>\n      <td>0.0</td>\n      <td>0.0</td>\n      <td>0.0</td>\n      <td>0.0</td>\n    </tr>\n  </tbody>\n</table>\n<p>5 rows × 687 columns</p>\n</div>"
     },
     "execution_count": 11,
     "metadata": {},
     "output_type": "execute_result"
    }
   ],
   "source": [
    "X = vectorizer.fit_transform(df['questions']).toarray()\n",
    "\n",
    "df_X = pd.DataFrame(X, columns=vectorizer.get_feature_names())\n",
    "\n",
    "df_X.head()\n"
   ]
  },
  {
   "cell_type": "code",
   "execution_count": 12,
   "outputs": [],
   "source": [
    "def chat(text):\n",
    "    question = clean_text(text)\n",
    "\n",
    "    tf = vectorizer.transform([question]).toarray()\n",
    "    cos = 1-metrics.pairwise_distances(df_X, tf, metric='cosine')\n",
    "    index_value = cos.argmax()\n",
    "    print(index_value)\n",
    "    return df['answers'].loc[index_value]"
   ],
   "metadata": {
    "collapsed": false,
    "pycharm": {
     "name": "#%%\n"
    }
   }
  },
  {
   "cell_type": "code",
   "execution_count": 13,
   "metadata": {},
   "outputs": [
    {
     "name": "stdout",
     "output_type": "stream",
     "text": [
      "74\n",
      "Я рекомендую подход к самообучению, который я называю «небольшими проектами» или «методологией малых проектов» (первые клиенты могут вспомнить, что я даже продавал руководство под этим названием).\n",
      "Методология небольших проектов - это подход, который можно использовать для очень быстрого развития практических навыков в технических областях обучения, таких как машинное обучение. Общая идея состоит в том, что вы разрабатываете и выполняете небольшие проекты, нацеленные на конкретный вопрос, на который вы хотите ответить. Вы можете узнать больше об этом подходе к изучению машинного обучения здесь:\n",
      "\n",
      "Руководство по машинному обучению для самообучения\n",
      "\n",
      "Небольшие проекты имеют небольшие размеры в нескольких измерениях, чтобы гарантировать их завершение и получение выгоды от обучения и переход к следующему проекту.\n",
      "Ниже приведены ограничения, которые вы должны рассмотреть в своих проектах:\n",
      "\n",
      "Маленький по времени.\n",
      "Небольшой объем.\n",
      "Небольшие ресурсы.\n",
      "\n",
      "Вы можете узнать больше о небольших проектах здесь:\n",
      "\n",
      "4 проекта самообучения по машинному обучению\n",
      "\n",
      "Я рекомендую, чтобы у каждого проекта был четко определенный результат, например программа, сообщение в блоге, функция API и т. Д.\n",
      "Имея конечный результат, он позволяет вам создать портфель «рабочих продуктов», который вы можете как использовать в будущих небольших проектах, так и использовать для демонстрации своих растущих возможностей.\n",
      "Вы можете узнать больше о создании портфолио здесь:\n",
      "\n",
      "Создайте портфель машинного обучения\n"
     ]
    }
   ],
   "source": [
    "print(chat('Что такое счастье?'))"
   ]
  },
  {
   "cell_type": "code",
   "execution_count": 2,
   "outputs": [
    {
     "name": "stderr",
     "output_type": "stream",
     "text": [
      "[nltk_data] Downloading package wordnet to /Users/artem/nltk_data...\n",
      "[nltk_data]   Unzipping corpora/wordnet.zip.\n"
     ]
    },
    {
     "data": {
      "text/plain": "True"
     },
     "execution_count": 2,
     "metadata": {},
     "output_type": "execute_result"
    }
   ],
   "source": [
    "import nltk\n",
    "nltk.download('wordnet')"
   ],
   "metadata": {
    "collapsed": false,
    "pycharm": {
     "name": "#%%\n"
    }
   }
  },
  {
   "cell_type": "code",
   "execution_count": 9,
   "outputs": [
    {
     "name": "stdout",
     "output_type": "stream",
     "text": [
      "векторы\n",
      "предложения\n",
      "боязненных\n"
     ]
    }
   ],
   "source": [
    "from nltk.stem import WordNetLemmatizer\n",
    "\n",
    "lemmatizer = WordNetLemmatizer()\n",
    "# Lemmatize Single Word\n",
    "print(lemmatizer.lemmatize(\"векторы\"))\n",
    "#> bat\n",
    "print(lemmatizer.lemmatize(\"предложения\"))\n",
    "#> are\n",
    "print(lemmatizer.lemmatize(\"боязненных\"))"
   ],
   "metadata": {
    "collapsed": false,
    "pycharm": {
     "name": "#%%\n"
    }
   }
  },
  {
   "cell_type": "code",
   "execution_count": 10,
   "outputs": [
    {
     "name": "stdout",
     "output_type": "stream",
     "text": [
      "['съесть', 'ещё', 'этот', 'мягкий', 'французский', 'булка', 'да', 'выпить', 'чай']\n"
     ]
    }
   ],
   "source": [
    "import pymorphy2\n",
    "morph = pymorphy2.MorphAnalyzer()\n",
    "\n",
    "text = \"Съешь еще этих мягких французских булок да выпей чаю\"\n",
    "\n",
    "def lemmatize(text):\n",
    "    words = text.split() # разбиваем текст на слова\n",
    "    res = list()\n",
    "    for word in words:\n",
    "        p = morph.parse(word)[0]\n",
    "        res.append(p.normal_form)\n",
    "\n",
    "    return res\n",
    "\n",
    "print(lemmatize(text))"
   ],
   "metadata": {
    "collapsed": false,
    "pycharm": {
     "name": "#%%\n"
    }
   }
  }
 ],
 "metadata": {
  "kernelspec": {
   "name": "pycharm-a190310d",
   "language": "python",
   "display_name": "PyCharm (Bot)"
  },
  "language_info": {
   "codemirror_mode": {
    "name": "ipython",
    "version": 3
   },
   "file_extension": ".py",
   "mimetype": "text/x-python",
   "name": "python",
   "nbconvert_exporter": "python",
   "pygments_lexer": "ipython3",
   "version": "3.8.5"
  }
 },
 "nbformat": 4,
 "nbformat_minor": 1
}